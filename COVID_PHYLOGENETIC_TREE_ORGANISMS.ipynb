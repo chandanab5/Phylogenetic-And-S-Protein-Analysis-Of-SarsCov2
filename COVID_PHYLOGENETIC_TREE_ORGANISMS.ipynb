{
  "cells": [
    {
      "cell_type": "code",
      "execution_count": 3,
      "id": "3a6dc5c0",
      "metadata": {
        "id": "3a6dc5c0"
      },
      "outputs": [],
      "source": [
        "from Bio import Phylo, AlignIO\n",
        "from Bio.Phylo.TreeConstruction import DistanceCalculator, DistanceTreeConstructor"
      ]
    },
    {
      "cell_type": "code",
      "source": [
        "!pip install BioPython"
      ],
      "metadata": {
        "colab": {
          "base_uri": "https://localhost:8080/"
        },
        "id": "lgfFopyQRveg",
        "outputId": "4fcc2d26-a1e6-4acf-b22b-74b47cd9b037"
      },
      "id": "lgfFopyQRveg",
      "execution_count": 2,
      "outputs": [
        {
          "output_type": "stream",
          "name": "stdout",
          "text": [
            "Looking in indexes: https://pypi.org/simple, https://us-python.pkg.dev/colab-wheels/public/simple/\n",
            "Collecting BioPython\n",
            "  Downloading biopython-1.79-cp37-cp37m-manylinux_2_5_x86_64.manylinux1_x86_64.whl (2.3 MB)\n",
            "\u001b[K     |████████████████████████████████| 2.3 MB 5.3 MB/s \n",
            "\u001b[?25hRequirement already satisfied: numpy in /usr/local/lib/python3.7/dist-packages (from BioPython) (1.21.6)\n",
            "Installing collected packages: BioPython\n",
            "Successfully installed BioPython-1.79\n"
          ]
        }
      ]
    },
    {
      "cell_type": "code",
      "execution_count": 4,
      "id": "e431e720",
      "metadata": {
        "colab": {
          "base_uri": "https://localhost:8080/"
        },
        "id": "e431e720",
        "outputId": "457be5cc-64fc-426d-f510-6057d8a54daa"
      },
      "outputs": [
        {
          "output_type": "stream",
          "name": "stdout",
          "text": [
            "Alignment with 9 rows and 3864 columns\n",
            "--------------------------------------------...--- Bat\n",
            "--------------------------------------------...GAC Mutant\n",
            "ATGACACTCTTAATGTGTCTACTGATGTCCTTGTTAATTTTCGT...--- Tylonycter\n",
            "ATGATACGCTCAGTGTTAGTACTGATGTGCTCGTTAACTTTTAT...--- Pipistrell\n",
            "ATGATACACTCAGTGTTTCTACTGATGTTCTTGTTAACACCTAC...--- MERS-CoV-J\n",
            "---ATGGTTATAATTTTTCTGCTCTTATTCGCCGAGCCTGTTTT...--- Betacorona\n",
            "--------------------------------------------...--- Rousettus\n",
            "------------ATGAAACTTTTTATAGTTTTTGTGCTCCTTTT...--- Rhinolophu\n",
            "--------------------------------------------...--- Miniopteru\n"
          ]
        }
      ],
      "source": [
        "align = AlignIO.read('covid_organisms_origin.phy','phylip')\n",
        "print(align)"
      ]
    },
    {
      "cell_type": "code",
      "execution_count": 5,
      "id": "ea971e99",
      "metadata": {
        "colab": {
          "base_uri": "https://localhost:8080/"
        },
        "id": "ea971e99",
        "outputId": "cb98e2da-5b88-4d2a-be30-02c189286d49"
      },
      "outputs": [
        {
          "output_type": "stream",
          "name": "stdout",
          "text": [
            "Bat\t0\n",
            "Mutant\t0.26319875776397517\t0\n",
            "Tylonycter\t0.5623706004140787\t0.5784161490683231\t0\n",
            "Pipistrell\t0.5734989648033126\t0.593944099378882\t0.2983954451345756\t0\n",
            "MERS-CoV-J\t0.5822981366459627\t0.5975672877846792\t0.297360248447205\t0.3250517598343685\t0\n",
            "Betacorona\t0.645703933747412\t0.6547619047619048\t0.5455486542443064\t0.5641821946169772\t0.5551242236024845\t0\n",
            "Rousettus\t0.5641821946169772\t0.5722049689440993\t0.5978260869565217\t0.6048136645962733\t0.5965320910973084\t0.614648033126294\t0\n",
            "Rhinolophu\t0.6809006211180124\t0.6979813664596273\t0.5936853002070394\t0.609472049689441\t0.599120082815735\t0.6001552795031055\t0.6785714285714286\t0\n",
            "Miniopteru\t0.6526915113871636\t0.6677018633540373\t0.5766045548654244\t0.604296066252588\t0.59472049689441\t0.5954968944099379\t0.6568322981366459\t0.6340579710144927\t0\n",
            "\tBat\tMutant\tTylonycter\tPipistrell\tMERS-CoV-J\tBetacorona\tRousettus\tRhinolophu\tMiniopteru\n"
          ]
        }
      ],
      "source": [
        "calculator = DistanceCalculator('identity')\n",
        "distMatrix = calculator.get_distance(align)\n",
        "print(distMatrix)"
      ]
    },
    {
      "cell_type": "code",
      "execution_count": 6,
      "id": "fa5e7e36",
      "metadata": {
        "id": "fa5e7e36"
      },
      "outputs": [],
      "source": [
        "# Create a DistanceTreeConstructor object\n",
        "constructor = DistanceTreeConstructor()\n",
        "# Construct the phlyogenetic tree using UPGMA algorithm\n",
        "UPGMATree = constructor.upgma(distMatrix)\n",
        "# Construct the phlyogenetic tree using NJ algorithm\n",
        "NJTree = constructor.nj(distMatrix)"
      ]
    },
    {
      "cell_type": "code",
      "execution_count": 7,
      "id": "50825290",
      "metadata": {
        "colab": {
          "base_uri": "https://localhost:8080/",
          "height": 608
        },
        "id": "50825290",
        "outputId": "ed49ed84-0236-4a1b-daa7-913e9ae3ca02"
      },
      "outputs": [
        {
          "output_type": "display_data",
          "data": {
            "text/plain": [
              "<Figure size 432x288 with 1 Axes>"
            ],
            "image/png": "[encoded data removed]"
          },
          "metadata": {
            "needs_background": "light"
          }
        },
        {
          "output_type": "stream",
          "name": "stdout",
          "text": [
            "  ______________________________________________________ Miniopteru\n",
            " |\n",
            " |            _________________________________________________ Rousettus\n",
            " |   ________|\n",
            " |  |        |                            _____________________ Bat\n",
            " |  |        |___________________________|\n",
            " |__|                                    |________________________ Mutant\n",
            " |  |\n",
            " |  |                   __________________________ MERS-CoV-J\n",
            "_|  |__________________|\n",
            " |                     |____________________________ Pipistrell\n",
            " |                     |\n",
            " |                     |________________________ Tylonycter\n",
            " |\n",
            " |________________________________________________ Betacorona\n",
            " |\n",
            " |_______________________________________________________ Rhinolophu\n",
            "\n"
          ]
        }
      ],
      "source": [
        "# Draw the phlyogenetic tree\n",
        "Phylo.draw(UPGMATree)\n",
        "# Draw the phlyogenetic tree using terminal\n",
        "Phylo.draw_ascii(NJTree)"
      ]
    }
  ],
  "metadata": {
    "kernelspec": {
      "display_name": "Python 3 (ipykernel)",
      "language": "python",
      "name": "python3"
    },
    "language_info": {
      "codemirror_mode": {
        "name": "ipython",
        "version": 3
      },
      "file_extension": ".py",
      "mimetype": "text/x-python",
      "name": "python",
      "nbconvert_exporter": "python",
      "pygments_lexer": "ipython3",
      "version": "3.9.7"
    },
    "colab": {
      "name": "COVID PHYLOGENETIC TREE-ORGANISMS.ipynb",
      "provenance": []
    }
  },
  "nbformat": 4,
  "nbformat_minor": 5
}