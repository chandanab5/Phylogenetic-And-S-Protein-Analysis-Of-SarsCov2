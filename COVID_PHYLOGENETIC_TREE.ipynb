{
 "cells": [
  {
   "cell_type": "code",
   "execution_count": 1,
   "id": "3a6dc5c0",
   "metadata": {},
   "outputs": [],
   "source": [
    "from Bio import Phylo, AlignIO\n",
    "from Bio.Phylo.TreeConstruction import DistanceCalculator, DistanceTreeConstructor"
   ]
  },
  {
   "cell_type": "code",
   "execution_count": 2,
   "id": "e431e720",
   "metadata": {},
   "outputs": [
    {
     "name": "stdout",
     "output_type": "stream",
     "text": [
      "Alignment with 5 rows and 3847 columns\n",
      "ATGTTTGTTTTTCTTGTTTTATTGCCACTAGTCTCTAGTCAGTG...--- Alpha\n",
      "ATGTTTGTTTTTCTTGTTTTATTGCCACTAGTCTCTAGTCAGTG...--- Beta\n",
      "ATGTTTGTTTTTCTTGTTTTATTGCCACTAGTCTCTAGTCAGTG...TTA Gamma\n",
      "ATGTTTGTTTTTCTTGTTTTATTGCCACTAGTCTCTAGTCAGTG...--- Delta\n",
      "ATGTTTGTTTTTCTTGTTTTATTGCCACTAGTCTCTAGTCAGTG...--- Omnicron\n"
     ]
    }
   ],
   "source": [
    "align = AlignIO.read('clustalw.phy','phylip')\n",
    "print(align)"
   ]
  },
  {
   "cell_type": "code",
   "execution_count": 3,
   "id": "ea971e99",
   "metadata": {},
   "outputs": [
    {
     "name": "stdout",
     "output_type": "stream",
     "text": [
      "Alpha\t0\n",
      "Beta\t0.010137769690668041\t0\n",
      "Gamma\t0.026254224070704435\t0.020275539381336083\t0\n",
      "Delta\t0.011437483753574229\t0.008838055627761854\t0.023394853132310933\t0\n",
      "Omnicron\t0.04341044970106578\t0.041590850012997116\t0.05666753314270856\t0.03899142188718485\t0\n",
      "\tAlpha\tBeta\tGamma\tDelta\tOmnicron\n"
     ]
    }
   ],
   "source": [
    "calculator = DistanceCalculator('identity')\n",
    "distMatrix = calculator.get_distance(align)\n",
    "print(distMatrix)"
   ]
  },
  {
   "cell_type": "code",
   "execution_count": 4,
   "id": "fa5e7e36",
   "metadata": {},
   "outputs": [],
   "source": [
    "# Create a DistanceTreeConstructor object\n",
    "constructor = DistanceTreeConstructor()\n",
    "# Construct the phlyogenetic tree using UPGMA algorithm\n",
    "UPGMATree = constructor.upgma(distMatrix)\n",
    "# Construct the phlyogenetic tree using NJ algorithm\n",
    "NJTree = constructor.nj(distMatrix)"
   ]
  },
  {
   "cell_type": "code",
   "execution_count": 5,
   "id": "50825290",
   "metadata": {},
   "outputs": [
    {
     "data": {
      "image/png": "[encoded data removed]",
      "text/plain": [
       "<Figure size 432x288 with 1 Axes>"
      ]
     },
     "metadata": {
      "needs_background": "light"
     },
     "output_type": "display_data"
    },
    {
     "name": "stdout",
     "output_type": "stream",
     "text": [
      "    ____________ Alpha\n",
      "  _|\n",
      " | |   _________________________________ Gamma\n",
      " | |__|\n",
      "_|    |____ Beta\n",
      " |\n",
      " |_____ Delta\n",
      " |\n",
      " |___________________________________________________________________ Omnicron\n",
      "\n"
     ]
    }
   ],
   "source": [
    "# Draw the phlyogenetic tree\n",
    "Phylo.draw(UPGMATree)\n",
    "# Draw the phlyogenetic tree using terminal\n",
    "Phylo.draw_ascii(NJTree)"
   ]
  },
  {
   "cell_type": "code",
   "execution_count": null,
   "id": "56cb557d",
   "metadata": {},
   "outputs": [],
   "source": []
  }
 ],
 "metadata": {
  "kernelspec": {
   "display_name": "Python 3 (ipykernel)",
   "language": "python",
   "name": "python3"
  },
  "language_info": {
   "codemirror_mode": {
    "name": "ipython",
    "version": 3
   },
   "file_extension": ".py",
   "mimetype": "text/x-python",
   "name": "python",
   "nbconvert_exporter": "python",
   "pygments_lexer": "ipython3",
   "version": "3.10.2"
  }
 },
 "nbformat": 4,
 "nbformat_minor": 5
}
